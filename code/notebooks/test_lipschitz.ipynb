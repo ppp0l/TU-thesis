{
 "cells": [
  {
   "cell_type": "code",
   "execution_count": 24,
   "id": "44f534d6-900d-4085-9255-c95f8ffc49f8",
   "metadata": {},
   "outputs": [],
   "source": [
    "import numpy as np\n",
    "import matplotlib.pyplot as plt\n",
    "import math, torch, gpytorch"
   ]
  },
  {
   "cell_type": "code",
   "execution_count": 38,
   "id": "a6653f97-80b2-44fc-b0df-dfb115facec5",
   "metadata": {},
   "outputs": [],
   "source": [
    "dim = 2\n",
    "param_space = { \n",
    "    'min' : np.zeros(dim), \n",
    "    'max' : np.ones(dim)\n",
    "}\n"
   ]
  },
  {
   "cell_type": "code",
   "execution_count": 26,
   "id": "daa6c8c4-6791-4ec9-94d5-a790302e2c9b",
   "metadata": {},
   "outputs": [],
   "source": [
    "import sys\n",
    "sys.path.append(\"C:/Users/paolo/projects/thesis/code/\")"
   ]
  },
  {
   "cell_type": "code",
   "execution_count": 27,
   "id": "d952c43f-64f7-4249-8207-d70c0a51e3e9",
   "metadata": {},
   "outputs": [],
   "source": [
    "from utils.utils import latin_hypercube_sampling as lhs"
   ]
  },
  {
   "cell_type": "code",
   "execution_count": null,
   "id": "05211972-352a-4c6b-816f-979dafb407aa",
   "metadata": {},
   "outputs": [],
   "source": [
    "from models.forward import forward_model as fm\n",
    "from models.GP_models.MTSurrogate import MTModel\n",
    "from models.naive_lipschitz import lipschitz_regressor"
   ]
  },
  {
   "cell_type": "code",
   "execution_count": 82,
   "id": "6a8efd77-21f1-4cfb-ba64-8e69540c7c85",
   "metadata": {},
   "outputs": [],
   "source": [
    "x = lhs( [0,0], [1,1], 60).reshape((-1,dim))"
   ]
  },
  {
   "cell_type": "code",
   "execution_count": null,
   "id": "a5fba1f4-3c51-4f59-be8a-80b12554fb54",
   "metadata": {},
   "outputs": [],
   "source": [
    "forward = fm(2, \"U\")\n",
    "true = forward.predict(x)"
   ]
  },
  {
   "cell_type": "code",
   "execution_count": 93,
   "id": "9af33301-c3a0-4033-8bd6-7b63e4bde500",
   "metadata": {},
   "outputs": [],
   "source": [
    "noise_level = np.abs(np.random.normal(0, 0.2, size = len(true)) )\n",
    "y = np.random.uniform(true.T-noise_level,true.T+ noise_level).T\n",
    "train_y = np.random.normal(loc = true.T, scale = noise_level/2 ).T"
   ]
  },
  {
   "cell_type": "code",
   "execution_count": null,
   "id": "64763556",
   "metadata": {},
   "outputs": [],
   "source": [
    "x.shape"
   ]
  },
  {
   "cell_type": "code",
   "execution_count": null,
   "id": "0480183e-cb83-4524-ad22-99758c43c598",
   "metadata": {},
   "outputs": [],
   "source": [
    "# initialize likelihood and model\n",
    "\n",
    "GP = MTModel()\n",
    "GP.fit(x, train_y, noise = noise_level**2/4)\n"
   ]
  },
  {
   "cell_type": "code",
   "execution_count": 96,
   "id": "c336bb6f-93ec-4fdf-97a3-d1cfce78a689",
   "metadata": {},
   "outputs": [],
   "source": [
    "test = np.linspace(0,1, 100)\n",
    "x_test = test.reshape((-1,1) )\n",
    "\n",
    "X, Y = np.meshgrid(test, test)\n",
    "X = X.reshape((-1))\n",
    "Y = Y.reshape((-1))\n",
    "x_test = np.transpose([X,Y])\n",
    "\n",
    "mean, std = GP.predict(x_test, return_std = True)"
   ]
  },
  {
   "cell_type": "code",
   "execution_count": null,
   "id": "7eed12ff-d033-4395-83ec-2cc4db78c862",
   "metadata": {},
   "outputs": [],
   "source": [
    "lips = lipschitz_regressor(x, y, noise_level)\n",
    "pred, low_bd, up_bd = lips.predict(x_test, return_bds=True)"
   ]
  },
  {
   "cell_type": "code",
   "execution_count": null,
   "id": "8ae286e3",
   "metadata": {},
   "outputs": [],
   "source": [
    "plt.contourf(test,test, np.reshape(forward.predict(x_test)[:,0], (100,100)), 500 )\n",
    "plt.colorbar()"
   ]
  },
  {
   "cell_type": "code",
   "execution_count": null,
   "id": "9c6ec217-bea1-46df-8bb7-0fd97488ea7f",
   "metadata": {},
   "outputs": [],
   "source": [
    "plt.contourf(test,test, np.reshape(pred[:,1], (100,100)),500 )\n",
    "plt.colorbar()\n",
    "plt.scatter(x[:,0], x[:,1])"
   ]
  },
  {
   "cell_type": "code",
   "execution_count": null,
   "id": "7ab00702-5262-4534-96e8-21657600eed4",
   "metadata": {},
   "outputs": [],
   "source": [
    "pred.shape"
   ]
  },
  {
   "cell_type": "code",
   "execution_count": 18,
   "id": "f0c57cbc-2ab9-43f3-b99d-0cdacfe79f79",
   "metadata": {},
   "outputs": [],
   "source": [
    "meas = np.array( [[-0.4]])\n",
    "eps_l = np.array([0.05])"
   ]
  },
  {
   "cell_type": "code",
   "execution_count": null,
   "id": "28b88fcc-6d8c-49a3-babe-9f352c13e10e",
   "metadata": {},
   "outputs": [],
   "source": [
    "fig, ax = plt.subplots(figsize = (12,3))\n",
    "ax.plot(test, forward.predict(test), 'black', lw = 1, label = \"Ground truth\", zorder = 8)\n",
    "\n",
    "ax.scatter(x, y, color = 'black', marker = '*', label = 'Lipschitz training points', zorder = 10)\n",
    "#ax.scatter(x, train_y, color = 'red', marker = '*', label = 'GP training points', zorder = 10)\n",
    "plt.axhline(meas)\n",
    "plt.axhline(meas + 2 * eps_l, linestyle=\"dashdot\")\n",
    "plt.axhline(meas - 2 * eps_l, linestyle=\"dashdot\")\n",
    "\n",
    "ax.plot(test, mean, 'blue', lw = 1, label=\"GP predictive mean and \\n 95% confidence interval\")\n",
    "ax.fill_between(\n",
    "    test.ravel(),\n",
    "    np.reshape(mean - 1.96 * std, -1),\n",
    "    np.reshape(mean + 1.96 * std, -1),\n",
    "    alpha=0.2,\n",
    "    label=\"GP predictive mean and \\n 95% confidence interval\",\n",
    "    facecolor= 'blue'\n",
    ")\n",
    "\n",
    "ax.plot(test, pred, 'cyan', lw = 1, label =\"Lipschitz prediction and \\n confidence interval\")\n",
    "ax.fill_between(\n",
    "    test.ravel(),\n",
    "    low_bd[:,0],\n",
    "    up_bd[:,0],\n",
    "    alpha=0.2,\n",
    "    label=\"Lipschitz prediction and \\n confidence interval\",\n",
    "    facecolor= 'cyan'\n",
    ")\n",
    "# handler, labeler = ax.get_legend_handles_labels()\n",
    "# hd = [(handler[0],), (handler[1],),\n",
    "#       (handler[2],handler[3]), \n",
    "#       (handler[4],handler[5]),\n",
    "#      ]\n",
    "# lab = [\"Ground truth\", 'Training points',\"GP predictive mean and \\n 95% confidence interval\", \"Lipschitz prediction and \\n confidence interval\", ]\n",
    "# ax.legend(hd, lab, )\n",
    "    #loc = 'upper right', prop={'size': 16} )\n",
    "#fig.savefig(\"model_comparison.svg\", format = 'svg', transparent = True)\n"
   ]
  },
  {
   "cell_type": "code",
   "execution_count": 20,
   "id": "83a6a380-d547-41d4-8b7f-655b2504e5f5",
   "metadata": {},
   "outputs": [],
   "source": [
    "%load_ext autoreload\n",
    "%autoreload 2"
   ]
  },
  {
   "cell_type": "code",
   "execution_count": 21,
   "id": "16d9a410-2f27-424b-9eb1-1220e8ed2b88",
   "metadata": {},
   "outputs": [],
   "source": [
    "from likelihoods.likelihoods import lipschitz_likelihood, GP_likelihood"
   ]
  },
  {
   "cell_type": "code",
   "execution_count": 22,
   "id": "4a137391-6316-4a5d-9eda-e74fbce4e38b",
   "metadata": {},
   "outputs": [],
   "source": [
    "liplike = lipschitz_likelihood(meas, eps_l**2, lips)\n",
    "GPlike = GP_likelihood(meas, eps_l**2, GP)"
   ]
  },
  {
   "cell_type": "code",
   "execution_count": null,
   "id": "1899a047-23df-450b-baca-62e3f09c398e",
   "metadata": {},
   "outputs": [],
   "source": [
    "fig, ax = plt.subplots(figsize = (12,3))\n",
    "lip_plugin = liplike.plugin(test)\n",
    "lip_plugin /= lip_plugin.sum()\n",
    "ax.plot(test, lip_plugin, lw = 1, label = \"Lipschitz plugin\")\n",
    "lip_marginal = liplike.marginal(test)\n",
    "lip_marginal /= lip_marginal.sum()\n",
    "ax.plot(test, lip_marginal, lw = 1, label = \"Lipschitz marginal\")\n",
    "GP_plugin = GPlike.plugin(x_test)\n",
    "GP_plugin /= GP_plugin.sum()\n",
    "ax.plot(test, GP_plugin, lw = 1, label = \"GP plugin\")\n",
    "GP_marginal = GPlike.marginal(x_test)\n",
    "GP_marginal /= GP_marginal.sum()\n",
    "ax.plot(test, GP_marginal, lw = 1, label = \"GP marginal\")\n",
    "GPlike.model = forward\n",
    "truth = GPlike.plugin(test)\n",
    "truth /= truth.sum()\n",
    "ax.plot(test, truth, lw = 1, label = \"Ground truth\")\n",
    "plt.legend()"
   ]
  },
  {
   "cell_type": "code",
   "execution_count": null,
   "id": "2e5dc039-a12f-42ed-a701-16f260b69c7d",
   "metadata": {},
   "outputs": [],
   "source": [
    "pred.shape"
   ]
  },
  {
   "cell_type": "code",
   "execution_count": null,
   "id": "bd0aea12-f247-4b7b-b35b-091eb7c87a68",
   "metadata": {},
   "outputs": [],
   "source": [
    "x.shape"
   ]
  },
  {
   "cell_type": "code",
   "execution_count": null,
   "id": "538519ea-b942-440e-88bb-f0902402345c",
   "metadata": {},
   "outputs": [],
   "source": [
    "x2 =x**2\n",
    "np.sqrt(x2 + x2.transpose() - 2 *x.dot(x.transpose() ))"
   ]
  },
  {
   "cell_type": "code",
   "execution_count": null,
   "id": "7e6912bf-278a-4db4-934e-5afcbf6ef5ee",
   "metadata": {},
   "outputs": [],
   "source": [
    "from scipy.spatial.distance import cdist\n",
    "cdist(x,x)"
   ]
  },
  {
   "cell_type": "code",
   "execution_count": 266,
   "id": "22e8d2b4-d0d7-4fa2-8906-dbfb456ce2ee",
   "metadata": {},
   "outputs": [],
   "source": [
    "dy = y.reshape( (len(y[0]), -1, len(y) ))"
   ]
  },
  {
   "cell_type": "code",
   "execution_count": null,
   "id": "cd688911-0004-4d10-ae8a-71926262c881",
   "metadata": {},
   "outputs": [],
   "source": [
    "y2 =dy**2\n",
    "np.sqrt(y2 + y2.transpose((0,2,1)) - 2 *dy.transpose((0,2,1) ).dot(dy )[:,:,0,:])"
   ]
  },
  {
   "cell_type": "code",
   "execution_count": null,
   "id": "29486a5c-c6e8-46a6-ad73-b4e9b4667b0f",
   "metadata": {},
   "outputs": [],
   "source": [
    "dy.transpose((0,2,1) ).dot(y.transpose() ).shape"
   ]
  },
  {
   "cell_type": "code",
   "execution_count": null,
   "id": "e6a40c2d-a798-42dd-a75f-596efc2fa382",
   "metadata": {},
   "outputs": [],
   "source": [
    "dy.shape"
   ]
  },
  {
   "cell_type": "code",
   "execution_count": null,
   "id": "5b8b2eb8-1477-4b61-a43a-cfe6beab5ed6",
   "metadata": {},
   "outputs": [],
   "source": [
    "dx = x.reshape((len(x[0]), -1, len(x) ))\n",
    "dx.transpose((0,2,1) ).dot(x.transpose() ).shape"
   ]
  },
  {
   "cell_type": "code",
   "execution_count": 101,
   "id": "bba28546-08bf-4888-b924-83e8cfd0f02d",
   "metadata": {},
   "outputs": [],
   "source": [
    "x = lhs( 0, 1, 5).reshape((-1,1))"
   ]
  },
  {
   "cell_type": "code",
   "execution_count": 102,
   "id": "d406382e-730f-440b-a3a4-72c7006bab1a",
   "metadata": {},
   "outputs": [],
   "source": [
    "forward = fm(1, \"U\")\n",
    "true = forward.predict(x)"
   ]
  },
  {
   "cell_type": "code",
   "execution_count": 103,
   "id": "e758795e-7a60-46bc-9586-ca576a585322",
   "metadata": {},
   "outputs": [],
   "source": [
    "noise = np.ones_like(true) * 0.05\n",
    "y = np.random.uniform(true-noise,true+ noise)\n",
    "noise0 = noise"
   ]
  },
  {
   "cell_type": "code",
   "execution_count": 109,
   "id": "bef032ec-d61e-4bed-9bd0-2dad92000d79",
   "metadata": {},
   "outputs": [],
   "source": [
    "nx =  lhs( 0.2, 0.8, 5).reshape((-1,1))\n",
    "ny, _ = forward.predict(nx, noise0)\n",
    "noise = np.concatenate( (noise, noise0) )"
   ]
  },
  {
   "cell_type": "code",
   "execution_count": 110,
   "id": "8e45a9f7-b24d-4ca4-895d-1a95d0a41920",
   "metadata": {},
   "outputs": [],
   "source": [
    "x = np.concatenate( (x,nx) )\n",
    "y = np.concatenate( (y,ny) )"
   ]
  },
  {
   "cell_type": "code",
   "execution_count": 111,
   "id": "6493167b-6e66-4b40-bd2c-fc4e4169ff74",
   "metadata": {},
   "outputs": [],
   "source": [
    "x2 = np.sum(x**2, axis = 1, keepdims=True)\n",
    "xxT = x.dot(x.transpose())\n",
    "dist_x = np.sqrt( x2 + x2.transpose() - 2 *xxT )\n",
    "\n",
    "yT=y.transpose()\n",
    "\n",
    "yT = yT.reshape( (len(yT), len(yT[0]), -1 ))\n",
    "\n",
    "dist_y = np.abs(yT - yT.transpose((0,2,1)))"
   ]
  },
  {
   "cell_type": "code",
   "execution_count": 112,
   "id": "9efa06c5-58ff-4e76-842c-11e52ae7008e",
   "metadata": {},
   "outputs": [],
   "source": [
    "true_dist_x = np.zeros_like(dist_x)\n",
    "true_dist_y = np.zeros_like(dist_y)\n",
    "for i in range(3) :\n",
    "    for j in range(3) :\n",
    "        true_dist_x[i,j] = np.linalg.norm(x[i]-x[j])\n",
    "        true_dist_y[:,i,j] = np.abs(y[i] - y[j] )"
   ]
  },
  {
   "cell_type": "code",
   "execution_count": null,
   "id": "101f84b7-5362-40e6-9acc-68e833375e74",
   "metadata": {},
   "outputs": [],
   "source": [
    "eps = noise.reshape((len(y), -1))\n",
    "eps2 = (eps + eps.transpose())\n",
    "\n",
    "L_mat = (dist_y )/dist_x - eps2/dist_x\n",
    "\n",
    "L = np.nanmax(L_mat, axis=(1,2), )\n",
    "L"
   ]
  },
  {
   "cell_type": "code",
   "execution_count": null,
   "id": "85108ee1-29ad-4aa3-99a5-b8e77264d1fc",
   "metadata": {
    "collapsed": true,
    "jupyter": {
     "outputs_hidden": true
    }
   },
   "outputs": [],
   "source": [
    "true_dist_y"
   ]
  },
  {
   "cell_type": "code",
   "execution_count": null,
   "id": "fc5c1da6-f6ce-4440-bb84-ff636ed38da1",
   "metadata": {},
   "outputs": [],
   "source": [
    "dist_y"
   ]
  },
  {
   "cell_type": "code",
   "execution_count": 57,
   "id": "eac0a867-551f-4114-aad3-05dcf01a35e7",
   "metadata": {},
   "outputs": [],
   "source": [
    "noise = np.concatenate( (noise, noise) )"
   ]
  },
  {
   "cell_type": "code",
   "execution_count": null,
   "id": "2890becb-829c-442a-94d8-72ee733c2c5c",
   "metadata": {},
   "outputs": [],
   "source": [
    "t = np.linspace(0,1,1000)\n",
    "f = (2*t-1) *np.sin(4*t+1) + 4 * (1-t+t**2) * np.cos(4*t+1)\n",
    "plt.plot(t,f)"
   ]
  },
  {
   "cell_type": "code",
   "execution_count": 122,
   "id": "46964b61-d05b-470e-b4fa-d590c0f2c955",
   "metadata": {},
   "outputs": [],
   "source": [
    "intf = np.array( [ np.sum(f[:i])/len(f) for i in range(len(f) ) ] )"
   ]
  },
  {
   "cell_type": "code",
   "execution_count": null,
   "id": "43e1da0a-416d-480e-a2af-3c078b0e7391",
   "metadata": {},
   "outputs": [],
   "source": [
    "err = forward.predict(t).reshape(-1) - intf\n",
    "err -= err.mean()\n",
    "plt.plot(t, err  )"
   ]
  },
  {
   "cell_type": "code",
   "execution_count": 130,
   "id": "54ad4904-4af7-448c-81e8-2d37c562ef78",
   "metadata": {},
   "outputs": [],
   "source": [
    "from scipy.stats import norm"
   ]
  },
  {
   "cell_type": "code",
   "execution_count": 225,
   "id": "92f0d8fd-62b7-4e4f-aff9-0001146cc309",
   "metadata": {},
   "outputs": [],
   "source": [
    "tau = 4\n",
    "\n",
    "def D(s) :\n",
    "    upper_term = 2*norm.cdf(-tau/s) \n",
    "\n",
    "    discr = np.linspace(-tau, tau, 3000).reshape((1,-1))\n",
    "    sT = s.reshape( (-1,1) )\n",
    "\n",
    "    diff = np.abs( 0.5/tau - 1/ sT * norm.pdf(discr/sT) )\n",
    "    \n",
    "    lower_term = 2*tau * np.mean( diff, axis = 1)\n",
    "    return upper_term + lower_term"
   ]
  },
  {
   "cell_type": "code",
   "execution_count": 226,
   "id": "a48970b7-49e3-4b0e-a8e6-ad0a3702e459",
   "metadata": {},
   "outputs": [],
   "source": [
    "t = np.linspace(0.1, 5, 2000)"
   ]
  },
  {
   "cell_type": "code",
   "execution_count": null,
   "id": "251f85e5-ad4d-41cd-b4cb-2dc319e8067b",
   "metadata": {},
   "outputs": [],
   "source": [
    "plt.plot(t, D(t) )\n",
    "plt.axvline(tau*2/3)"
   ]
  },
  {
   "cell_type": "code",
   "execution_count": null,
   "id": "fb608ef3-75d8-4716-80b7-33f6aba32de2",
   "metadata": {},
   "outputs": [],
   "source": [
    "a = np.argmin(D(t) )\n",
    "t[a]"
   ]
  },
  {
   "cell_type": "code",
   "execution_count": 401,
   "id": "58d8c030-d99f-444c-8c26-f4a9d68d165c",
   "metadata": {},
   "outputs": [
    {
     "name": "stderr",
     "output_type": "stream",
     "text": [
      "C:\\Users/paolo/projects/thesis/code\\models\\lipschitz.py:69: RuntimeWarning: invalid value encountered in divide\n",
      "  L_mat = (dist_y )/dist_x - eps2/dist_x\n",
      "C:\\Users/paolo/projects/thesis/code\\models\\lipschitz.py:69: RuntimeWarning: divide by zero encountered in divide\n",
      "  L_mat = (dist_y )/dist_x - eps2/dist_x\n"
     ]
    }
   ],
   "source": [
    "x = np.array([[0.0],[ 0.5]])\n",
    "y = np.array([[0.0],[ 0.1]])\n",
    "eps = 0.5\n",
    "noise = np.array([[eps],[ eps]])\n",
    "lips = lipschitz_regressor(x, y, noise)\n",
    "lips.L = np.array([1])"
   ]
  },
  {
   "cell_type": "code",
   "execution_count": 403,
   "id": "e0615b69",
   "metadata": {},
   "outputs": [],
   "source": [
    "p = np.array([[0.25]])\n",
    "_, LB, UB = lips.predict(p, return_bds=True)"
   ]
  },
  {
   "cell_type": "code",
   "execution_count": 343,
   "id": "21133e0d",
   "metadata": {},
   "outputs": [],
   "source": [
    "from copy import deepcopy"
   ]
  },
  {
   "cell_type": "code",
   "execution_count": 404,
   "id": "b2d4a150",
   "metadata": {},
   "outputs": [],
   "source": [
    "n = 100\n",
    "discr_ep = np.linspace(-eps, eps,n)\n",
    "discr_pr =np.linspace(LB, UB, n)\n",
    "\n",
    "qs = np.array([[[0.35]],[[0.0]],[[0.1]]])\n",
    "integ = np.zeros(3)\n",
    "\n",
    "i = 0\n",
    "for q in qs :\n",
    "    _, LBq, UBq = lips.predict(q, return_bds=True)\n",
    "    for ep in discr_ep :\n",
    "        for pr in discr_pr :\n",
    "            lips1 = deepcopy(lips)\n",
    "            lips1.update(p, pr+ep, np.array([[eps]]))\n",
    "            lips1.L = np.array([1])\n",
    "            _, nLBq, nUBq =  lips1.predict(q, return_bds=True)\n",
    "\n",
    "            integ[i] += np.max([[[0]], UBq-nUBq])/(n**2)\n",
    "            integ[i] -= np.min([[[0]], LBq -nLBq])/(n**2)\n",
    "    i +=1"
   ]
  },
  {
   "cell_type": "code",
   "execution_count": 405,
   "id": "dfa06b13",
   "metadata": {},
   "outputs": [
    {
     "data": {
      "text/plain": [
       "array([0.64833333, 0.28816667, 0.50833333])"
      ]
     },
     "execution_count": 405,
     "metadata": {},
     "output_type": "execute_result"
    }
   ],
   "source": [
    "q = qs.reshape( (-1,1))\n",
    "_, LBq, UBq = lips.predict(q, return_bds=True)\n",
    "from AL.acquisition import pos_EER\n",
    "pos_EER(eps, p, q, lips)"
   ]
  },
  {
   "cell_type": "code",
   "execution_count": 406,
   "id": "6af2f58e",
   "metadata": {},
   "outputs": [
    {
     "data": {
      "text/plain": [
       "array([[0.65404931, 0.29329689, 0.51404931]])"
      ]
     },
     "execution_count": 406,
     "metadata": {},
     "output_type": "execute_result"
    }
   ],
   "source": [
    "integ * (2*eps) *(UB-LB)"
   ]
  },
  {
   "cell_type": "code",
   "execution_count": 409,
   "id": "9a1da9cd",
   "metadata": {},
   "outputs": [
    {
     "data": {
      "text/plain": [
       "array([-1.30255525, -0.06737924,  1.10922569])"
      ]
     },
     "execution_count": 409,
     "metadata": {},
     "output_type": "execute_result"
    }
   ],
   "source": [
    "a = np.ones(4)\n",
    "B = np.random.normal(size=(3,4))\n",
    "np.dot(B, a)"
   ]
  },
  {
   "cell_type": "code",
   "execution_count": null,
   "id": "40a31e4f",
   "metadata": {},
   "outputs": [],
   "source": [
    "alpha, LBq + np.abs(p-q)+eps"
   ]
  },
  {
   "cell_type": "code",
   "execution_count": null,
   "id": "60e0d5aa",
   "metadata": {},
   "outputs": [],
   "source": [
    "UB,LB,eps"
   ]
  },
  {
   "cell_type": "code",
   "execution_count": null,
   "id": "1f5258e1",
   "metadata": {},
   "outputs": [],
   "source": [
    "eps * ( LB - alpha + eps) * (-LB + alpha + eps) + (2*eps)**3/6"
   ]
  },
  {
   "cell_type": "code",
   "execution_count": 224,
   "id": "d500594f",
   "metadata": {},
   "outputs": [],
   "source": [
    "from scipy.integrate import dblquad"
   ]
  },
  {
   "cell_type": "code",
   "execution_count": 290,
   "id": "44fca020",
   "metadata": {},
   "outputs": [],
   "source": [
    "def target( y , e) :\n",
    "    return alpha - e- y"
   ]
  },
  {
   "cell_type": "code",
   "execution_count": null,
   "id": "041b8b0e",
   "metadata": {},
   "outputs": [],
   "source": [
    "dblquad( target, a = LB, b = UB, gfun = -eps, hfun = eps)"
   ]
  },
  {
   "cell_type": "code",
   "execution_count": null,
   "id": "02b52907",
   "metadata": {},
   "outputs": [],
   "source": [
    "2*eps*(alpha *(UB -LB) + 1/2 *(LB**2 - (UB)**2))"
   ]
  },
  {
   "cell_type": "code",
   "execution_count": null,
   "id": "f8563031",
   "metadata": {},
   "outputs": [],
   "source": [
    "UB"
   ]
  },
  {
   "cell_type": "code",
   "execution_count": null,
   "id": "f8041ed7",
   "metadata": {},
   "outputs": [],
   "source": [
    "np.array([True, True])* ~np.array([False, True])"
   ]
  },
  {
   "cell_type": "code",
   "execution_count": null,
   "id": "67be723e",
   "metadata": {},
   "outputs": [],
   "source": [
    "[]"
   ]
  }
 ],
 "metadata": {
  "kernelspec": {
   "display_name": "AGP-env",
   "language": "python",
   "name": "python3"
  },
  "language_info": {
   "codemirror_mode": {
    "name": "ipython",
    "version": 3
   },
   "file_extension": ".py",
   "mimetype": "text/x-python",
   "name": "python",
   "nbconvert_exporter": "python",
   "pygments_lexer": "ipython3",
   "version": "3.10.14"
  }
 },
 "nbformat": 4,
 "nbformat_minor": 5
}
