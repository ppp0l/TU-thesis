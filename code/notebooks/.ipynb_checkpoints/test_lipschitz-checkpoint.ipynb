{
 "cells": [
  {
   "cell_type": "code",
   "execution_count": 1,
   "id": "44f534d6-900d-4085-9255-c95f8ffc49f8",
   "metadata": {},
   "outputs": [],
   "source": [
    "import numpy as np\n",
    "import matplotlib.pyplot as plt\n",
    "import math, torch, gpytorch"
   ]
  },
  {
   "cell_type": "code",
   "execution_count": 2,
   "id": "a6653f97-80b2-44fc-b0df-dfb115facec5",
   "metadata": {},
   "outputs": [],
   "source": [
    "param_space = { \n",
    "    'min' : np.array([0.0]), \n",
    "    'max' : np.array([2.0])\n",
    "}\n"
   ]
  },
  {
   "cell_type": "code",
   "execution_count": 3,
   "id": "daa6c8c4-6791-4ec9-94d5-a790302e2c9b",
   "metadata": {},
   "outputs": [],
   "source": [
    "import sys\n",
    "sys.path.append(\"/home/numerik/pvillani/Project/lipschitz/\")"
   ]
  },
  {
   "cell_type": "code",
   "execution_count": 4,
   "id": "d952c43f-64f7-4249-8207-d70c0a51e3e9",
   "metadata": {},
   "outputs": [],
   "source": [
    "from utils.utils import latin_hypercube_sampling as lhs"
   ]
  },
  {
   "cell_type": "code",
   "execution_count": 5,
   "id": "05211972-352a-4c6b-816f-979dafb407aa",
   "metadata": {},
   "outputs": [],
   "source": [
    "from models.forward import forward_model as fm\n",
    "from models.GP_models.SOSurrogate import SOGPModel\n",
    "from models.lipschitz import lipschitz_regressor"
   ]
  },
  {
   "cell_type": "code",
   "execution_count": 22,
   "id": "6a8efd77-21f1-4cfb-ba64-8e69540c7c85",
   "metadata": {},
   "outputs": [],
   "source": [
    "x = lhs( 0, 1, 3).reshape((-1,1))"
   ]
  },
  {
   "cell_type": "code",
   "execution_count": 23,
   "id": "a5fba1f4-3c51-4f59-be8a-80b12554fb54",
   "metadata": {},
   "outputs": [],
   "source": [
    "forward = fm(1, \"U\")\n",
    "true = forward.predict(x)"
   ]
  },
  {
   "cell_type": "code",
   "execution_count": 26,
   "id": "9af33301-c3a0-4033-8bd6-7b63e4bde500",
   "metadata": {},
   "outputs": [],
   "source": [
    "noise_level = np.abs(np.random.normal(0, 0.2, size = true.shape) )\n",
    "y = np.random.uniform(true-noise_level,true+ noise_level)\n",
    "train_y = np.random.normal(loc = true, scale = noise_level/2 )"
   ]
  },
  {
   "cell_type": "code",
   "execution_count": 10,
   "id": "0480183e-cb83-4524-ad22-99758c43c598",
   "metadata": {},
   "outputs": [
    {
     "name": "stderr",
     "output_type": "stream",
     "text": [
      "/home/numerik/pvillani/Project/lipschitz/models/GP_models/SOSurrogate.py:91: UserWarning: No optimizer specified, using default.\n",
      "  warnings.warn(\"No optimizer specified, using default.\", UserWarning)\n"
     ]
    },
    {
     "name": "stdout",
     "output_type": "stream",
     "text": [
      " Iter = 99 / 100,Loss = -0.029749460905655875, Loss_ratio = NoneIter = 100, Loss = -0.029749460905655875, Loss_ratio = None\n"
     ]
    }
   ],
   "source": [
    "# initialize likelihood and model\n",
    "\n",
    "GP = SOGPModel()\n",
    "GP.fit(x, train_y, noise = noise_level**2/4)\n"
   ]
  },
  {
   "cell_type": "code",
   "execution_count": 11,
   "id": "6560195a-5b8f-439f-9f83-59f8fe8a6bf8",
   "metadata": {},
   "outputs": [
    {
     "name": "stdout",
     "output_type": "stream",
     "text": [
      "Actual outputscale: 2.84634946112033\n",
      "Actual lengthscale: 0.5193999699726962\n"
     ]
    }
   ],
   "source": [
    "raw_outputscale = GP.kernel.raw_outputscale\n",
    "constraint = GP.kernel.raw_outputscale_constraint\n",
    "outputscale = constraint.transform(raw_outputscale)\n",
    "print(f'Actual outputscale: {outputscale.item()}')\n",
    "\n",
    "raw_lengthscale = GP.kernel.base_kernel.raw_lengthscale\n",
    "constraint = GP.kernel.base_kernel.raw_lengthscale_constraint\n",
    "lengthscale = constraint.transform(raw_lengthscale)\n",
    "print(f'Actual lengthscale: {lengthscale.item()}')"
   ]
  },
  {
   "cell_type": "code",
   "execution_count": 12,
   "id": "c336bb6f-93ec-4fdf-97a3-d1cfce78a689",
   "metadata": {},
   "outputs": [],
   "source": [
    "test = np.linspace(0,1, 1000)\n",
    "x_test = test.reshape((-1,1) )\n",
    "mean, std = GP.predict(x_test, return_std = True)"
   ]
  },
  {
   "cell_type": "code",
   "execution_count": 13,
   "id": "7eed12ff-d033-4395-83ec-2cc4db78c862",
   "metadata": {},
   "outputs": [
    {
     "name": "stderr",
     "output_type": "stream",
     "text": [
      "/home/numerik/pvillani/Project/lipschitz/models/lipschitz.py:54: RuntimeWarning: invalid value encountered in divide\n",
      "  L_mat = (dist_y )/dist_x - eps2/dist_x\n",
      "/home/numerik/pvillani/Project/lipschitz/models/lipschitz.py:54: RuntimeWarning: divide by zero encountered in divide\n",
      "  L_mat = (dist_y )/dist_x - eps2/dist_x\n"
     ]
    }
   ],
   "source": [
    "lips = lipschitz_regressor(x, y, noise_level)\n",
    "pred, low_bd, up_bd = lips.predict(x_test, return_bds=True)"
   ]
  },
  {
   "cell_type": "code",
   "execution_count": 14,
   "id": "9c6ec217-bea1-46df-8bb7-0fd97488ea7f",
   "metadata": {},
   "outputs": [
    {
     "data": {
      "text/plain": [
       "array([[0.22065049],\n",
       "       [0.01801019],\n",
       "       [0.21137923],\n",
       "       [0.25320019],\n",
       "       [0.01453913],\n",
       "       [0.33344603],\n",
       "       [0.10475367],\n",
       "       [0.21270501],\n",
       "       [0.13365523],\n",
       "       [0.33808023],\n",
       "       [0.20348627],\n",
       "       [0.49835633],\n",
       "       [0.07303534],\n",
       "       [0.04149638],\n",
       "       [0.2882555 ]])"
      ]
     },
     "execution_count": 14,
     "metadata": {},
     "output_type": "execute_result"
    }
   ],
   "source": [
    "noise_level"
   ]
  },
  {
   "cell_type": "code",
   "execution_count": 15,
   "id": "7ab00702-5262-4534-96e8-21657600eed4",
   "metadata": {},
   "outputs": [
    {
     "data": {
      "text/plain": [
       "array([4.63745164])"
      ]
     },
     "execution_count": 15,
     "metadata": {},
     "output_type": "execute_result"
    }
   ],
   "source": [
    "lips.L"
   ]
  },
  {
   "cell_type": "code",
   "execution_count": 16,
   "id": "f0c57cbc-2ab9-43f3-b99d-0cdacfe79f79",
   "metadata": {},
   "outputs": [],
   "source": [
    "meas = np.array( [[-0.4]])\n",
    "eps_l = np.array([0.05])"
   ]
  },
  {
   "cell_type": "code",
   "execution_count": 17,
   "id": "28b88fcc-6d8c-49a3-babe-9f352c13e10e",
   "metadata": {},
   "outputs": [
    {
     "data": {
      "text/plain": [
       "<matplotlib.collections.PolyCollection at 0x7efd081ef820>"
      ]
     },
     "execution_count": 17,
     "metadata": {},
     "output_type": "execute_result"
    },
    {
     "data": {
      "image/png": "[encoded data removed]",
      "text/plain": [
       "<Figure size 1200x300 with 1 Axes>"
      ]
     },
     "metadata": {},
     "output_type": "display_data"
    }
   ],
   "source": [
    "fig, ax = plt.subplots(figsize = (12,3))\n",
    "ax.plot(test, forward.predict(test), 'black', lw = 1, label = \"Ground truth\", zorder = 8)\n",
    "\n",
    "ax.scatter(x, y, color = 'black', marker = '*', label = 'Lipschitz training points', zorder = 10)\n",
    "#ax.scatter(x, train_y, color = 'red', marker = '*', label = 'GP training points', zorder = 10)\n",
    "plt.axhline(meas)\n",
    "plt.axhline(meas + 2 * eps_l, linestyle=\"dashdot\")\n",
    "plt.axhline(meas - 2 * eps_l, linestyle=\"dashdot\")\n",
    "\n",
    "ax.plot(test, mean, 'blue', lw = 1, label=\"GP predictive mean and \\n 95% confidence interval\")\n",
    "ax.fill_between(\n",
    "    test.ravel(),\n",
    "    np.reshape(mean - 1.96 * std, -1),\n",
    "    np.reshape(mean + 1.96 * std, -1),\n",
    "    alpha=0.2,\n",
    "    label=\"GP predictive mean and \\n 95% confidence interval\",\n",
    "    facecolor= 'blue'\n",
    ")\n",
    "\n",
    "ax.plot(test, pred, 'cyan', lw = 1, label =\"Lipschitz prediction and \\n confidence interval\")\n",
    "ax.fill_between(\n",
    "    test.ravel(),\n",
    "    low_bd[:,0],\n",
    "    up_bd[:,0],\n",
    "    alpha=0.2,\n",
    "    label=\"Lipschitz prediction and \\n confidence interval\",\n",
    "    facecolor= 'cyan'\n",
    ")\n",
    "# handler, labeler = ax.get_legend_handles_labels()\n",
    "# hd = [(handler[0],), (handler[1],),\n",
    "#       (handler[2],handler[3]), \n",
    "#       (handler[4],handler[5]),\n",
    "#      ]\n",
    "# lab = [\"Ground truth\", 'Training points',\"GP predictive mean and \\n 95% confidence interval\", \"Lipschitz prediction and \\n confidence interval\", ]\n",
    "# ax.legend(hd, lab, )\n",
    "    #loc = 'upper right', prop={'size': 16} )\n",
    "#fig.savefig(\"model_comparison.svg\", format = 'svg', transparent = True)\n"
   ]
  },
  {
   "cell_type": "code",
   "execution_count": 18,
   "id": "83a6a380-d547-41d4-8b7f-655b2504e5f5",
   "metadata": {},
   "outputs": [],
   "source": [
    "%load_ext autoreload\n",
    "%autoreload 2"
   ]
  },
  {
   "cell_type": "code",
   "execution_count": 19,
   "id": "16d9a410-2f27-424b-9eb1-1220e8ed2b88",
   "metadata": {},
   "outputs": [],
   "source": [
    "from likelihoods.likelihoods import lipschitz_likelihood, GP_likelihood"
   ]
  },
  {
   "cell_type": "code",
   "execution_count": 20,
   "id": "4a137391-6316-4a5d-9eda-e74fbce4e38b",
   "metadata": {},
   "outputs": [],
   "source": [
    "liplike = lipschitz_likelihood(meas, eps_l**2, lips)\n",
    "GPlike = GP_likelihood(meas, eps_l**2, GP)"
   ]
  },
  {
   "cell_type": "code",
   "execution_count": 21,
   "id": "1899a047-23df-450b-baca-62e3f09c398e",
   "metadata": {},
   "outputs": [
    {
     "data": {
      "text/plain": [
       "<matplotlib.legend.Legend at 0x7efd082db8e0>"
      ]
     },
     "execution_count": 21,
     "metadata": {},
     "output_type": "execute_result"
    },
    {
     "data": {
      "image/png": "[encoded data removed]",
      "text/plain": [
       "<Figure size 1200x300 with 1 Axes>"
      ]
     },
     "metadata": {},
     "output_type": "display_data"
    }
   ],
   "source": [
    "fig, ax = plt.subplots(figsize = (12,3))\n",
    "lip_plugin = liplike.plugin(test)\n",
    "lip_plugin /= lip_plugin.sum()\n",
    "ax.plot(test, lip_plugin, lw = 1, label = \"Lipschitz plugin\")\n",
    "lip_marginal = liplike.marginal(test)\n",
    "lip_marginal /= lip_marginal.sum()\n",
    "ax.plot(test, lip_marginal, lw = 1, label = \"Lipschitz marginal\")\n",
    "GP_plugin = GPlike.plugin(x_test)\n",
    "GP_plugin /= GP_plugin.sum()\n",
    "ax.plot(test, GP_plugin, lw = 1, label = \"GP plugin\")\n",
    "GP_marginal = GPlike.marginal(x_test)\n",
    "GP_marginal /= GP_marginal.sum()\n",
    "ax.plot(test, GP_marginal, lw = 1, label = \"GP marginal\")\n",
    "GPlike.model = forward\n",
    "truth = GPlike.plugin(test)\n",
    "truth /= truth.sum()\n",
    "ax.plot(test, truth, lw = 1, label = \"Ground truth\")\n",
    "plt.legend()"
   ]
  },
  {
   "cell_type": "code",
   "execution_count": 487,
   "id": "2e5dc039-a12f-42ed-a701-16f260b69c7d",
   "metadata": {},
   "outputs": [
    {
     "data": {
      "text/plain": [
       "(1000, 1)"
      ]
     },
     "execution_count": 487,
     "metadata": {},
     "output_type": "execute_result"
    }
   ],
   "source": [
    "pred.shape"
   ]
  },
  {
   "cell_type": "code",
   "execution_count": 254,
   "id": "bd0aea12-f247-4b7b-b35b-091eb7c87a68",
   "metadata": {},
   "outputs": [
    {
     "data": {
      "text/plain": [
       "(7, 1)"
      ]
     },
     "execution_count": 254,
     "metadata": {},
     "output_type": "execute_result"
    }
   ],
   "source": [
    "x.shape"
   ]
  },
  {
   "cell_type": "code",
   "execution_count": 265,
   "id": "538519ea-b942-440e-88bb-f0902402345c",
   "metadata": {},
   "outputs": [
    {
     "data": {
      "text/plain": [
       "array([[0.        , 0.14582016, 0.82483628, 0.3445717 , 0.1467745 ,\n",
       "        0.49744671, 0.64878762],\n",
       "       [0.14582016, 0.        , 0.67901612, 0.19875154, 0.29259466,\n",
       "        0.35162655, 0.50296746],\n",
       "       [0.82483628, 0.67901612, 0.        , 0.48026458, 0.97161078,\n",
       "        0.32738957, 0.17604866],\n",
       "       [0.3445717 , 0.19875154, 0.48026458, 0.        , 0.4913462 ,\n",
       "        0.15287501, 0.30421592],\n",
       "       [0.1467745 , 0.29259466, 0.97161078, 0.4913462 , 0.        ,\n",
       "        0.64422121, 0.79556212],\n",
       "       [0.49744671, 0.35162655, 0.32738957, 0.15287501, 0.64422121,\n",
       "        0.        , 0.15134091],\n",
       "       [0.64878762, 0.50296746, 0.17604866, 0.30421592, 0.79556212,\n",
       "        0.15134091, 0.        ]])"
      ]
     },
     "execution_count": 265,
     "metadata": {},
     "output_type": "execute_result"
    }
   ],
   "source": [
    "x2 =x**2\n",
    "np.sqrt(x2 + x2.transpose() - 2 *x.dot(x.transpose() ))"
   ]
  },
  {
   "cell_type": "code",
   "execution_count": 260,
   "id": "7e6912bf-278a-4db4-934e-5afcbf6ef5ee",
   "metadata": {},
   "outputs": [
    {
     "data": {
      "text/plain": [
       "array([[0.        , 0.14582016, 0.82483628, 0.3445717 , 0.1467745 ,\n",
       "        0.49744671, 0.64878762],\n",
       "       [0.14582016, 0.        , 0.67901612, 0.19875154, 0.29259466,\n",
       "        0.35162655, 0.50296746],\n",
       "       [0.82483628, 0.67901612, 0.        , 0.48026458, 0.97161078,\n",
       "        0.32738957, 0.17604866],\n",
       "       [0.3445717 , 0.19875154, 0.48026458, 0.        , 0.4913462 ,\n",
       "        0.15287501, 0.30421592],\n",
       "       [0.1467745 , 0.29259466, 0.97161078, 0.4913462 , 0.        ,\n",
       "        0.64422121, 0.79556212],\n",
       "       [0.49744671, 0.35162655, 0.32738957, 0.15287501, 0.64422121,\n",
       "        0.        , 0.15134091],\n",
       "       [0.64878762, 0.50296746, 0.17604866, 0.30421592, 0.79556212,\n",
       "        0.15134091, 0.        ]])"
      ]
     },
     "execution_count": 260,
     "metadata": {},
     "output_type": "execute_result"
    }
   ],
   "source": [
    "from scipy.spatial.distance import cdist\n",
    "cdist(x,x)"
   ]
  },
  {
   "cell_type": "code",
   "execution_count": 266,
   "id": "22e8d2b4-d0d7-4fa2-8906-dbfb456ce2ee",
   "metadata": {},
   "outputs": [],
   "source": [
    "dy = y.reshape( (len(y[0]), -1, len(y) ))"
   ]
  },
  {
   "cell_type": "code",
   "execution_count": 283,
   "id": "cd688911-0004-4d10-ae8a-71926262c881",
   "metadata": {},
   "outputs": [
    {
     "data": {
      "text/plain": [
       "array([[[0.        , 1.37070077, 1.07291481, 0.66844719, 1.79077538,\n",
       "         1.79600814, 0.19392787],\n",
       "        [1.37070077, 0.        , 0.29778596, 0.70225358, 0.42007461,\n",
       "         0.42530736, 1.1767729 ],\n",
       "        [1.07291481, 0.29778596, 0.        , 0.40446763, 0.71786057,\n",
       "         0.72309332, 0.87898694],\n",
       "        [0.66844719, 0.70225358, 0.40446763, 0.        , 1.1223282 ,\n",
       "         1.12756095, 0.47451931],\n",
       "        [1.79077538, 0.42007461, 0.71786057, 1.1223282 , 0.        ,\n",
       "         0.00523275, 1.59684751],\n",
       "        [1.79600814, 0.42530736, 0.72309332, 1.12756095, 0.00523275,\n",
       "         0.        , 1.60208026],\n",
       "        [0.19392787, 1.1767729 , 0.87898694, 0.47451931, 1.59684751,\n",
       "         1.60208026, 0.        ]]])"
      ]
     },
     "execution_count": 283,
     "metadata": {},
     "output_type": "execute_result"
    }
   ],
   "source": [
    "y2 =dy**2\n",
    "np.sqrt(y2 + y2.transpose((0,2,1)) - 2 *dy.transpose((0,2,1) ).dot(dy )[:,:,0,:])"
   ]
  },
  {
   "cell_type": "code",
   "execution_count": 285,
   "id": "29486a5c-c6e8-46a6-ad73-b4e9b4667b0f",
   "metadata": {},
   "outputs": [
    {
     "data": {
      "text/plain": [
       "(1, 7, 7)"
      ]
     },
     "execution_count": 285,
     "metadata": {},
     "output_type": "execute_result"
    }
   ],
   "source": [
    "dy.transpose((0,2,1) ).dot(y.transpose() ).shape"
   ]
  },
  {
   "cell_type": "code",
   "execution_count": 276,
   "id": "e6a40c2d-a798-42dd-a75f-596efc2fa382",
   "metadata": {},
   "outputs": [
    {
     "data": {
      "text/plain": [
       "(1, 1, 7)"
      ]
     },
     "execution_count": 276,
     "metadata": {},
     "output_type": "execute_result"
    }
   ],
   "source": [
    "dy.shape"
   ]
  },
  {
   "cell_type": "code",
   "execution_count": 286,
   "id": "5b8b2eb8-1477-4b61-a43a-cfe6beab5ed6",
   "metadata": {},
   "outputs": [
    {
     "data": {
      "text/plain": [
       "(1, 7, 7)"
      ]
     },
     "execution_count": 286,
     "metadata": {},
     "output_type": "execute_result"
    }
   ],
   "source": [
    "dx = x.reshape((len(x[0]), -1, len(x) ))\n",
    "dx.transpose((0,2,1) ).dot(x.transpose() ).shape"
   ]
  },
  {
   "cell_type": "code",
   "execution_count": 101,
   "id": "bba28546-08bf-4888-b924-83e8cfd0f02d",
   "metadata": {},
   "outputs": [],
   "source": [
    "x = lhs( 0, 1, 5).reshape((-1,1))"
   ]
  },
  {
   "cell_type": "code",
   "execution_count": 102,
   "id": "d406382e-730f-440b-a3a4-72c7006bab1a",
   "metadata": {},
   "outputs": [],
   "source": [
    "forward = fm(1, \"U\")\n",
    "true = forward.predict(x)"
   ]
  },
  {
   "cell_type": "code",
   "execution_count": 103,
   "id": "e758795e-7a60-46bc-9586-ca576a585322",
   "metadata": {},
   "outputs": [],
   "source": [
    "noise = np.ones_like(true) * 0.05\n",
    "y = np.random.uniform(true-noise,true+ noise)\n",
    "noise0 = noise"
   ]
  },
  {
   "cell_type": "code",
   "execution_count": 109,
   "id": "bef032ec-d61e-4bed-9bd0-2dad92000d79",
   "metadata": {},
   "outputs": [],
   "source": [
    "nx =  lhs( 0.2, 0.8, 5).reshape((-1,1))\n",
    "ny, _ = forward.predict(nx, noise0)\n",
    "noise = np.concatenate( (noise, noise0) )"
   ]
  },
  {
   "cell_type": "code",
   "execution_count": 110,
   "id": "8e45a9f7-b24d-4ca4-895d-1a95d0a41920",
   "metadata": {},
   "outputs": [],
   "source": [
    "x = np.concatenate( (x,nx) )\n",
    "y = np.concatenate( (y,ny) )"
   ]
  },
  {
   "cell_type": "code",
   "execution_count": 111,
   "id": "6493167b-6e66-4b40-bd2c-fc4e4169ff74",
   "metadata": {},
   "outputs": [],
   "source": [
    "x2 = np.sum(x**2, axis = 1, keepdims=True)\n",
    "xxT = x.dot(x.transpose())\n",
    "dist_x = np.sqrt( x2 + x2.transpose() - 2 *xxT )\n",
    "\n",
    "yT=y.transpose()\n",
    "\n",
    "yT = yT.reshape( (len(yT), len(yT[0]), -1 ))\n",
    "\n",
    "dist_y = np.abs(yT - yT.transpose((0,2,1)))"
   ]
  },
  {
   "cell_type": "code",
   "execution_count": 112,
   "id": "9efa06c5-58ff-4e76-842c-11e52ae7008e",
   "metadata": {},
   "outputs": [],
   "source": [
    "true_dist_x = np.zeros_like(dist_x)\n",
    "true_dist_y = np.zeros_like(dist_y)\n",
    "for i in range(3) :\n",
    "    for j in range(3) :\n",
    "        true_dist_x[i,j] = np.linalg.norm(x[i]-x[j])\n",
    "        true_dist_y[:,i,j] = np.abs(y[i] - y[j] )"
   ]
  },
  {
   "cell_type": "code",
   "execution_count": 113,
   "id": "101f84b7-5362-40e6-9acc-68e833375e74",
   "metadata": {},
   "outputs": [
    {
     "name": "stderr",
     "output_type": "stream",
     "text": [
      "/tmp/ipykernel_3344935/3012233647.py:4: RuntimeWarning: invalid value encountered in divide\n",
      "  L_mat = (dist_y )/dist_x - eps2/dist_x\n",
      "/tmp/ipykernel_3344935/3012233647.py:4: RuntimeWarning: divide by zero encountered in divide\n",
      "  L_mat = (dist_y )/dist_x - eps2/dist_x\n"
     ]
    },
    {
     "data": {
      "text/plain": [
       "array([2.82148987])"
      ]
     },
     "execution_count": 113,
     "metadata": {},
     "output_type": "execute_result"
    }
   ],
   "source": [
    "eps = noise.reshape((len(y), -1))\n",
    "eps2 = (eps + eps.transpose())\n",
    "\n",
    "L_mat = (dist_y )/dist_x - eps2/dist_x\n",
    "\n",
    "L = np.nanmax(L_mat, axis=(1,2), )\n",
    "L"
   ]
  },
  {
   "cell_type": "code",
   "execution_count": 114,
   "id": "85108ee1-29ad-4aa3-99a5-b8e77264d1fc",
   "metadata": {
    "collapsed": true,
    "jupyter": {
     "outputs_hidden": true
    }
   },
   "outputs": [
    {
     "data": {
      "text/plain": [
       "array([[[0.        , 0.74928437, 0.74418425, 0.        , 0.        ,\n",
       "         0.        , 0.        , 0.        , 0.        , 0.        ,\n",
       "         0.        , 0.        , 0.        , 0.        , 0.        ],\n",
       "        [0.74928437, 0.        , 1.49346863, 0.        , 0.        ,\n",
       "         0.        , 0.        , 0.        , 0.        , 0.        ,\n",
       "         0.        , 0.        , 0.        , 0.        , 0.        ],\n",
       "        [0.74418425, 1.49346863, 0.        , 0.        , 0.        ,\n",
       "         0.        , 0.        , 0.        , 0.        , 0.        ,\n",
       "         0.        , 0.        , 0.        , 0.        , 0.        ],\n",
       "        [0.        , 0.        , 0.        , 0.        , 0.        ,\n",
       "         0.        , 0.        , 0.        , 0.        , 0.        ,\n",
       "         0.        , 0.        , 0.        , 0.        , 0.        ],\n",
       "        [0.        , 0.        , 0.        , 0.        , 0.        ,\n",
       "         0.        , 0.        , 0.        , 0.        , 0.        ,\n",
       "         0.        , 0.        , 0.        , 0.        , 0.        ],\n",
       "        [0.        , 0.        , 0.        , 0.        , 0.        ,\n",
       "         0.        , 0.        , 0.        , 0.        , 0.        ,\n",
       "         0.        , 0.        , 0.        , 0.        , 0.        ],\n",
       "        [0.        , 0.        , 0.        , 0.        , 0.        ,\n",
       "         0.        , 0.        , 0.        , 0.        , 0.        ,\n",
       "         0.        , 0.        , 0.        , 0.        , 0.        ],\n",
       "        [0.        , 0.        , 0.        , 0.        , 0.        ,\n",
       "         0.        , 0.        , 0.        , 0.        , 0.        ,\n",
       "         0.        , 0.        , 0.        , 0.        , 0.        ],\n",
       "        [0.        , 0.        , 0.        , 0.        , 0.        ,\n",
       "         0.        , 0.        , 0.        , 0.        , 0.        ,\n",
       "         0.        , 0.        , 0.        , 0.        , 0.        ],\n",
       "        [0.        , 0.        , 0.        , 0.        , 0.        ,\n",
       "         0.        , 0.        , 0.        , 0.        , 0.        ,\n",
       "         0.        , 0.        , 0.        , 0.        , 0.        ],\n",
       "        [0.        , 0.        , 0.        , 0.        , 0.        ,\n",
       "         0.        , 0.        , 0.        , 0.        , 0.        ,\n",
       "         0.        , 0.        , 0.        , 0.        , 0.        ],\n",
       "        [0.        , 0.        , 0.        , 0.        , 0.        ,\n",
       "         0.        , 0.        , 0.        , 0.        , 0.        ,\n",
       "         0.        , 0.        , 0.        , 0.        , 0.        ],\n",
       "        [0.        , 0.        , 0.        , 0.        , 0.        ,\n",
       "         0.        , 0.        , 0.        , 0.        , 0.        ,\n",
       "         0.        , 0.        , 0.        , 0.        , 0.        ],\n",
       "        [0.        , 0.        , 0.        , 0.        , 0.        ,\n",
       "         0.        , 0.        , 0.        , 0.        , 0.        ,\n",
       "         0.        , 0.        , 0.        , 0.        , 0.        ],\n",
       "        [0.        , 0.        , 0.        , 0.        , 0.        ,\n",
       "         0.        , 0.        , 0.        , 0.        , 0.        ,\n",
       "         0.        , 0.        , 0.        , 0.        , 0.        ]]])"
      ]
     },
     "execution_count": 114,
     "metadata": {},
     "output_type": "execute_result"
    }
   ],
   "source": [
    "true_dist_y"
   ]
  },
  {
   "cell_type": "code",
   "execution_count": 115,
   "id": "fc5c1da6-f6ce-4440-bb84-ff636ed38da1",
   "metadata": {},
   "outputs": [
    {
     "data": {
      "text/plain": [
       "array([[[0.        , 0.74928437, 0.74418425, 1.05450177, 0.54279282,\n",
       "         0.78764701, 0.71221035, 0.43681238, 0.40007584, 0.00865424,\n",
       "         0.8080359 , 0.33114869, 0.020482  , 0.66734173, 0.49752757],\n",
       "        [0.74928437, 0.        , 1.49346863, 0.30521739, 1.29207719,\n",
       "         0.03836263, 1.46149473, 0.312472  , 1.14936021, 0.74063013,\n",
       "         0.05875152, 1.08043306, 0.72880237, 1.4166261 , 0.2517568 ],\n",
       "        [0.74418425, 1.49346863, 0.        , 1.79868602, 0.20139143,\n",
       "         1.53183126, 0.0319739 , 1.18099663, 0.34410841, 0.75283849,\n",
       "         1.55222015, 0.41303556, 0.76466625, 0.07684253, 1.24171182],\n",
       "        [1.05450177, 0.30521739, 1.79868602, 0.        , 1.59729459,\n",
       "         0.26685476, 1.76671212, 0.61768939, 1.45457761, 1.04584753,\n",
       "         0.24646587, 1.38565046, 1.03401977, 1.72184349, 0.5569742 ],\n",
       "        [0.54279282, 1.29207719, 0.20139143, 1.59729459, 0.        ,\n",
       "         1.33043983, 0.16941753, 0.9796052 , 0.14271698, 0.55144706,\n",
       "         1.35082872, 0.21164413, 0.56327482, 0.1245489 , 1.04032039],\n",
       "        [0.78764701, 0.03836263, 1.53183126, 0.26685476, 1.33043983,\n",
       "         0.        , 1.49985736, 0.35083463, 1.18772285, 0.77899277,\n",
       "         0.02038889, 1.1187957 , 0.76716501, 1.45498873, 0.29011944],\n",
       "        [0.71221035, 1.46149473, 0.0319739 , 1.76671212, 0.16941753,\n",
       "         1.49985736, 0.        , 1.14902273, 0.31213451, 0.72086459,\n",
       "         1.52024625, 0.38106166, 0.73269235, 0.04486863, 1.20973792],\n",
       "        [0.43681238, 0.312472  , 1.18099663, 0.61768939, 0.9796052 ,\n",
       "         0.35083463, 1.14902273, 0.        , 0.83688822, 0.42815814,\n",
       "         0.37122352, 0.76796107, 0.41633038, 1.1041541 , 0.06071519],\n",
       "        [0.40007584, 1.14936021, 0.34410841, 1.45457761, 0.14271698,\n",
       "         1.18772285, 0.31213451, 0.83688822, 0.        , 0.40873008,\n",
       "         1.20811174, 0.06892715, 0.42055784, 0.26726589, 0.89760341],\n",
       "        [0.00865424, 0.74063013, 0.75283849, 1.04584753, 0.55144706,\n",
       "         0.77899277, 0.72086459, 0.42815814, 0.40873008, 0.        ,\n",
       "         0.79938166, 0.33980293, 0.01182776, 0.67599597, 0.48887333],\n",
       "        [0.8080359 , 0.05875152, 1.55222015, 0.24646587, 1.35082872,\n",
       "         0.02038889, 1.52024625, 0.37122352, 1.20811174, 0.79938166,\n",
       "         0.        , 1.13918459, 0.78755389, 1.47537762, 0.31050832],\n",
       "        [0.33114869, 1.08043306, 0.41303556, 1.38565046, 0.21164413,\n",
       "         1.1187957 , 0.38106166, 0.76796107, 0.06892715, 0.33980293,\n",
       "         1.13918459, 0.        , 0.35163069, 0.33619304, 0.82867626],\n",
       "        [0.020482  , 0.72880237, 0.76466625, 1.03401977, 0.56327482,\n",
       "         0.76716501, 0.73269235, 0.41633038, 0.42055784, 0.01182776,\n",
       "         0.78755389, 0.35163069, 0.        , 0.68782373, 0.47704557],\n",
       "        [0.66734173, 1.4166261 , 0.07684253, 1.72184349, 0.1245489 ,\n",
       "         1.45498873, 0.04486863, 1.1041541 , 0.26726589, 0.67599597,\n",
       "         1.47537762, 0.33619304, 0.68782373, 0.        , 1.1648693 ],\n",
       "        [0.49752757, 0.2517568 , 1.24171182, 0.5569742 , 1.04032039,\n",
       "         0.29011944, 1.20973792, 0.06071519, 0.89760341, 0.48887333,\n",
       "         0.31050832, 0.82867626, 0.47704557, 1.1648693 , 0.        ]]])"
      ]
     },
     "execution_count": 115,
     "metadata": {},
     "output_type": "execute_result"
    }
   ],
   "source": [
    "dist_y"
   ]
  },
  {
   "cell_type": "code",
   "execution_count": 57,
   "id": "eac0a867-551f-4114-aad3-05dcf01a35e7",
   "metadata": {},
   "outputs": [],
   "source": [
    "noise = np.concatenate( (noise, noise) )"
   ]
  },
  {
   "cell_type": "code",
   "execution_count": 116,
   "id": "2890becb-829c-442a-94d8-72ee733c2c5c",
   "metadata": {},
   "outputs": [
    {
     "data": {
      "text/plain": [
       "[<matplotlib.lines.Line2D at 0x7efd02ebb2b0>]"
      ]
     },
     "execution_count": 116,
     "metadata": {},
     "output_type": "execute_result"
    },
    {
     "data": {
      "image/png": "[encoded data removed]",
      "text/plain": [
       "<Figure size 640x480 with 1 Axes>"
      ]
     },
     "metadata": {},
     "output_type": "display_data"
    }
   ],
   "source": [
    "t = np.linspace(0,1,1000)\n",
    "f = (2*t-1) *np.sin(4*t+1) + 4 * (1-t+t**2) * np.cos(4*t+1)\n",
    "plt.plot(t,f)"
   ]
  },
  {
   "cell_type": "code",
   "execution_count": 122,
   "id": "46964b61-d05b-470e-b4fa-d590c0f2c955",
   "metadata": {},
   "outputs": [],
   "source": [
    "intf = np.array( [ np.sum(f[:i])/len(f) for i in range(len(f) ) ] )"
   ]
  },
  {
   "cell_type": "code",
   "execution_count": 129,
   "id": "43e1da0a-416d-480e-a2af-3c078b0e7391",
   "metadata": {},
   "outputs": [
    {
     "data": {
      "text/plain": [
       "[<matplotlib.lines.Line2D at 0x7efd01cfc340>]"
      ]
     },
     "execution_count": 129,
     "metadata": {},
     "output_type": "execute_result"
    },
    {
     "data": {
      "image/png": "[encoded data removed]",
      "text/plain": [
       "<Figure size 640x480 with 1 Axes>"
      ]
     },
     "metadata": {},
     "output_type": "display_data"
    }
   ],
   "source": [
    "err = forward.predict(t).reshape(-1) - intf\n",
    "err -= err.mean()\n",
    "plt.plot(t, err  )"
   ]
  },
  {
   "cell_type": "code",
   "execution_count": 130,
   "id": "54ad4904-4af7-448c-81e8-2d37c562ef78",
   "metadata": {},
   "outputs": [],
   "source": [
    "from scipy.stats import norm"
   ]
  },
  {
   "cell_type": "code",
   "execution_count": 225,
   "id": "92f0d8fd-62b7-4e4f-aff9-0001146cc309",
   "metadata": {},
   "outputs": [],
   "source": [
    "tau = 4\n",
    "\n",
    "def D(s) :\n",
    "    upper_term = 2*norm.cdf(-tau/s) \n",
    "\n",
    "    discr = np.linspace(-tau, tau, 3000).reshape((1,-1))\n",
    "    sT = s.reshape( (-1,1) )\n",
    "\n",
    "    diff = np.abs( 0.5/tau - 1/ sT * norm.pdf(discr/sT) )\n",
    "    \n",
    "    lower_term = 2*tau * np.mean( diff, axis = 1)\n",
    "    return upper_term + lower_term"
   ]
  },
  {
   "cell_type": "code",
   "execution_count": 226,
   "id": "a48970b7-49e3-4b0e-a8e6-ad0a3702e459",
   "metadata": {},
   "outputs": [],
   "source": [
    "t = np.linspace(0.1, 5, 2000)"
   ]
  },
  {
   "cell_type": "code",
   "execution_count": 227,
   "id": "251f85e5-ad4d-41cd-b4cb-2dc319e8067b",
   "metadata": {},
   "outputs": [
    {
     "data": {
      "text/plain": [
       "<matplotlib.lines.Line2D at 0x7efcf9fb1810>"
      ]
     },
     "execution_count": 227,
     "metadata": {},
     "output_type": "execute_result"
    },
    {
     "data": {
      "image/png": "[encoded data removed]",
      "text/plain": [
       "<Figure size 640x480 with 1 Axes>"
      ]
     },
     "metadata": {},
     "output_type": "display_data"
    }
   ],
   "source": [
    "plt.plot(t, D(t) )\n",
    "plt.axvline(tau*2/3)"
   ]
  },
  {
   "cell_type": "code",
   "execution_count": 224,
   "id": "fb608ef3-75d8-4716-80b7-33f6aba32de2",
   "metadata": {},
   "outputs": [
    {
     "data": {
      "text/plain": [
       "2.6909454727363684"
      ]
     },
     "execution_count": 224,
     "metadata": {},
     "output_type": "execute_result"
    }
   ],
   "source": [
    "a = np.argmin(D(t) )\n",
    "t[a]"
   ]
  },
  {
   "cell_type": "code",
   "execution_count": null,
   "id": "58d8c030-d99f-444c-8c26-f4a9d68d165c",
   "metadata": {},
   "outputs": [],
   "source": []
  }
 ],
 "metadata": {
  "kernelspec": {
   "display_name": "Python 3 (ipykernel)",
   "language": "python",
   "name": "python3"
  },
  "language_info": {
   "codemirror_mode": {
    "name": "ipython",
    "version": 3
   },
   "file_extension": ".py",
   "mimetype": "text/x-python",
   "name": "python",
   "nbconvert_exporter": "python",
   "pygments_lexer": "ipython3",
   "version": "3.10.14"
  }
 },
 "nbformat": 4,
 "nbformat_minor": 5
}
